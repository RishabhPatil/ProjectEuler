{
 "cells": [
  {
   "cell_type": "code",
   "execution_count": 1,
   "metadata": {},
   "outputs": [
    {
     "data": {
      "text/plain": [
       "880"
      ]
     },
     "execution_count": 1,
     "metadata": {},
     "output_type": "execute_result"
    }
   ],
   "source": [
    "import math\n",
    "import sys\n",
    "\n",
    "min_f = int(math.sqrt((math.sqrt(600851475143))))\n",
    "\n",
    "primes = [2,3,5]\n",
    "min_f"
   ]
  },
  {
   "cell_type": "code",
   "execution_count": 2,
   "metadata": {},
   "outputs": [
    {
     "name": "stdout",
     "output_type": "stream",
     "text": [
      "879"
     ]
    },
    {
     "data": {
      "text/plain": [
       "877"
      ]
     },
     "execution_count": 2,
     "metadata": {},
     "output_type": "execute_result"
    }
   ],
   "source": [
    "for i in range(6,int(min_f)):\n",
    "    sys.stdout.write(\"\\r\"+str(i))\n",
    "    sys.stdout.flush()\n",
    "    has_factor = 0\n",
    "    for j in primes:\n",
    "        if j>math.sqrt(i):\n",
    "            break\n",
    "        if i%j==0:\n",
    "            has_factor = 1\n",
    "            break\n",
    "    if not has_factor:\n",
    "        primes.append(i)\n",
    "max(primes)"
   ]
  },
  {
   "cell_type": "code",
   "execution_count": 5,
   "metadata": {},
   "outputs": [
    {
     "name": "stdout",
     "output_type": "stream",
     "text": [
      "6857 0000\n"
     ]
    }
   ],
   "source": [
    "high=0\n",
    "for i in range(int(math.sqrt(600851475143)),0,-1):\n",
    "    sys.stdout.write(\"\\r\"+str(i)+' '+str(high))\n",
    "    sys.stdout.flush()\n",
    "    if 600851475143%i!=0:\n",
    "        continue\n",
    "    has_factor = 0\n",
    "    for j in primes:\n",
    "        if j>math.sqrt(i):\n",
    "            break\n",
    "        if i%j==0:\n",
    "            has_factor = 1\n",
    "            break\n",
    "    if not has_factor:\n",
    "        print(high)\n",
    "        break"
   ]
  },
  {
   "cell_type": "code",
   "execution_count": null,
   "metadata": {
    "collapsed": true
   },
   "outputs": [],
   "source": []
  }
 ],
 "metadata": {
  "kernelspec": {
   "display_name": "Python 3",
   "language": "python",
   "name": "python3"
  },
  "language_info": {
   "codemirror_mode": {
    "name": "ipython",
    "version": 3
   },
   "file_extension": ".py",
   "mimetype": "text/x-python",
   "name": "python",
   "nbconvert_exporter": "python",
   "pygments_lexer": "ipython3",
   "version": "3.5.3"
  }
 },
 "nbformat": 4,
 "nbformat_minor": 2
}
